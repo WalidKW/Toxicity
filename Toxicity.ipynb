{
 "cells": [
  {
   "attachments": {},
   "cell_type": "markdown",
   "metadata": {},
   "source": [
    "# <span style=\"color:#FFCC00\"> Toxicity in CRY1 Molecules </span>"
   ]
  },
  {
   "attachments": {},
   "cell_type": "markdown",
   "metadata": {},
   "source": [
    "The dataset includes 171 molecules designed for functional domains of a core clock protein, CRY1, responsible for generating circadian rhythm. 56 of the molecules are toxic and the rest are non-toxic."
   ]
  },
  {
   "attachments": {},
   "cell_type": "markdown",
   "metadata": {},
   "source": [
    "#### <span style=\"color:#FFFF00\"> Information: </span>\n",
    "| Dataset Characteristics | Subject Area | Associated Tasks | Attribute Type | Instances | Attributes |\n",
    "|---------|:-------------|:--------------:|:-------------|:-------------|--------------:|\n",
    "| Tabular | Life Sciences | Classification | - | 171 | 1203 |\n",
    "\n",
    "<b>What do the instances in this dataset represent?</b>\n",
    "\n",
    "Small molecules\n",
    "\n",
    "<b>Was there any data preprocessing performed?</b>\n",
    "\n",
    "The data consists a complete set of 1203 molecular descriptors and needs feature selection before classification since some of the features are redundant. We used Recursive Feature Elimination together with Decision Tree Classifier (DTC) to get the best set of molecular descriptors for DTC. Subsetted data with 13 features is included as supplementary file."
   ]
  },
  {
   "attachments": {},
   "cell_type": "markdown",
   "metadata": {},
   "source": [
    "#### <span style=\"color:gold\"> Task </span>"
   ]
  },
  {
   "attachments": {},
   "cell_type": "markdown",
   "metadata": {},
   "source": [
    "Implement an SVM algorithm using any benchmark data of your choosing; the only condition for the data is that it must have 1000 columns (features) or more,   then use Genetic Algorithm (GA) to implement dimensionality reduction be feature selections"
   ]
  },
  {
   "attachments": {},
   "cell_type": "markdown",
   "metadata": {},
   "source": [
    "#### <span style=\"color:#FFFF00\"> Import libraries and read Toxicity Dataset </span>"
   ]
  },
  {
   "cell_type": "code",
   "execution_count": 16,
   "metadata": {},
   "outputs": [],
   "source": [
    "import numpy as np\n",
    "import pandas as pd\n",
    "import seaborn as sns\n",
    "import scipy.stats as stats\n",
    "import matplotlib.pyplot as plt\n",
    "%matplotlib inline\n",
    "\n",
    "from sklearn import svm\n",
    "from sklearn.model_selection import train_test_split\n",
    "from sklearn.metrics import accuracy_score\n",
    "from sklearn.preprocessing import StandardScaler\n",
    "import random\n",
    "\n",
    "import warnings\n",
    "warnings.filterwarnings('ignore')"
   ]
  },
  {
   "cell_type": "code",
   "execution_count": 17,
   "metadata": {},
   "outputs": [],
   "source": [
    "df = pd.read_csv(\"toxicity-dataset\\data.csv\")"
   ]
  },
  {
   "attachments": {},
   "cell_type": "markdown",
   "metadata": {},
   "source": [
    "#### <span style=\"color:#FFFF00\"> Perform Exploratory Data Analysis </span>"
   ]
  },
  {
   "cell_type": "code",
   "execution_count": 18,
   "metadata": {},
   "outputs": [
    {
     "data": {
      "text/plain": [
       "(171, 1204)"
      ]
     },
     "execution_count": 18,
     "metadata": {},
     "output_type": "execute_result"
    }
   ],
   "source": [
    "df.shape"
   ]
  },
  {
   "cell_type": "code",
   "execution_count": 19,
   "metadata": {},
   "outputs": [
    {
     "data": {
      "text/html": [
       "<div>\n",
       "<style scoped>\n",
       "    .dataframe tbody tr th:only-of-type {\n",
       "        vertical-align: middle;\n",
       "    }\n",
       "\n",
       "    .dataframe tbody tr th {\n",
       "        vertical-align: top;\n",
       "    }\n",
       "\n",
       "    .dataframe thead th {\n",
       "        text-align: right;\n",
       "    }\n",
       "</style>\n",
       "<table border=\"1\" class=\"dataframe\">\n",
       "  <thead>\n",
       "    <tr style=\"text-align: right;\">\n",
       "      <th></th>\n",
       "      <th>MATS3v</th>\n",
       "      <th>nHBint10</th>\n",
       "      <th>MATS3s</th>\n",
       "      <th>MATS3p</th>\n",
       "      <th>nHBDon_Lipinski</th>\n",
       "      <th>minHBint8</th>\n",
       "      <th>MATS3e</th>\n",
       "      <th>MATS3c</th>\n",
       "      <th>minHBint2</th>\n",
       "      <th>MATS3m</th>\n",
       "      <th>...</th>\n",
       "      <th>WTPT-4</th>\n",
       "      <th>WTPT-5</th>\n",
       "      <th>ETA_EtaP_L</th>\n",
       "      <th>ETA_EtaP_F</th>\n",
       "      <th>ETA_EtaP_B</th>\n",
       "      <th>nT5Ring</th>\n",
       "      <th>SHdNH</th>\n",
       "      <th>ETA_dEpsilon_C</th>\n",
       "      <th>MDEO-22</th>\n",
       "      <th>Class</th>\n",
       "    </tr>\n",
       "  </thead>\n",
       "  <tbody>\n",
       "    <tr>\n",
       "      <th>0</th>\n",
       "      <td>0.0908</td>\n",
       "      <td>0</td>\n",
       "      <td>0.0075</td>\n",
       "      <td>0.0173</td>\n",
       "      <td>0</td>\n",
       "      <td>0.0</td>\n",
       "      <td>-0.0436</td>\n",
       "      <td>0.0409</td>\n",
       "      <td>0.0</td>\n",
       "      <td>0.1368</td>\n",
       "      <td>...</td>\n",
       "      <td>0.0000</td>\n",
       "      <td>0.0000</td>\n",
       "      <td>0.1780</td>\n",
       "      <td>1.5488</td>\n",
       "      <td>0.0088</td>\n",
       "      <td>0</td>\n",
       "      <td>0.0</td>\n",
       "      <td>-0.0868</td>\n",
       "      <td>0.00</td>\n",
       "      <td>NonToxic</td>\n",
       "    </tr>\n",
       "    <tr>\n",
       "      <th>1</th>\n",
       "      <td>0.0213</td>\n",
       "      <td>0</td>\n",
       "      <td>0.1144</td>\n",
       "      <td>-0.0410</td>\n",
       "      <td>0</td>\n",
       "      <td>0.0</td>\n",
       "      <td>0.1231</td>\n",
       "      <td>-0.0316</td>\n",
       "      <td>0.0</td>\n",
       "      <td>0.1318</td>\n",
       "      <td>...</td>\n",
       "      <td>8.8660</td>\n",
       "      <td>19.3525</td>\n",
       "      <td>0.1739</td>\n",
       "      <td>1.3718</td>\n",
       "      <td>0.0048</td>\n",
       "      <td>2</td>\n",
       "      <td>0.0</td>\n",
       "      <td>-0.0810</td>\n",
       "      <td>0.25</td>\n",
       "      <td>NonToxic</td>\n",
       "    </tr>\n",
       "    <tr>\n",
       "      <th>2</th>\n",
       "      <td>0.0018</td>\n",
       "      <td>0</td>\n",
       "      <td>-0.0156</td>\n",
       "      <td>-0.0765</td>\n",
       "      <td>2</td>\n",
       "      <td>0.0</td>\n",
       "      <td>-0.1138</td>\n",
       "      <td>-0.1791</td>\n",
       "      <td>0.0</td>\n",
       "      <td>0.0615</td>\n",
       "      <td>...</td>\n",
       "      <td>5.2267</td>\n",
       "      <td>27.8796</td>\n",
       "      <td>0.1688</td>\n",
       "      <td>1.4395</td>\n",
       "      <td>0.0116</td>\n",
       "      <td>2</td>\n",
       "      <td>0.0</td>\n",
       "      <td>-0.1004</td>\n",
       "      <td>0.00</td>\n",
       "      <td>NonToxic</td>\n",
       "    </tr>\n",
       "    <tr>\n",
       "      <th>3</th>\n",
       "      <td>-0.0251</td>\n",
       "      <td>0</td>\n",
       "      <td>-0.0064</td>\n",
       "      <td>-0.0894</td>\n",
       "      <td>3</td>\n",
       "      <td>0.0</td>\n",
       "      <td>-0.0747</td>\n",
       "      <td>-0.1151</td>\n",
       "      <td>0.0</td>\n",
       "      <td>0.0361</td>\n",
       "      <td>...</td>\n",
       "      <td>7.7896</td>\n",
       "      <td>24.7336</td>\n",
       "      <td>0.1702</td>\n",
       "      <td>1.4654</td>\n",
       "      <td>0.0133</td>\n",
       "      <td>2</td>\n",
       "      <td>0.0</td>\n",
       "      <td>-0.1010</td>\n",
       "      <td>0.00</td>\n",
       "      <td>NonToxic</td>\n",
       "    </tr>\n",
       "    <tr>\n",
       "      <th>4</th>\n",
       "      <td>0.0135</td>\n",
       "      <td>0</td>\n",
       "      <td>0.0424</td>\n",
       "      <td>-0.0353</td>\n",
       "      <td>0</td>\n",
       "      <td>0.0</td>\n",
       "      <td>-0.0638</td>\n",
       "      <td>0.0307</td>\n",
       "      <td>0.0</td>\n",
       "      <td>0.0306</td>\n",
       "      <td>...</td>\n",
       "      <td>12.3240</td>\n",
       "      <td>19.7486</td>\n",
       "      <td>0.1789</td>\n",
       "      <td>1.4495</td>\n",
       "      <td>0.0120</td>\n",
       "      <td>2</td>\n",
       "      <td>0.0</td>\n",
       "      <td>-0.1071</td>\n",
       "      <td>0.00</td>\n",
       "      <td>NonToxic</td>\n",
       "    </tr>\n",
       "  </tbody>\n",
       "</table>\n",
       "<p>5 rows × 1204 columns</p>\n",
       "</div>"
      ],
      "text/plain": [
       "   MATS3v  nHBint10  MATS3s  MATS3p  nHBDon_Lipinski  minHBint8  MATS3e  \\\n",
       "0  0.0908         0  0.0075  0.0173                0        0.0 -0.0436   \n",
       "1  0.0213         0  0.1144 -0.0410                0        0.0  0.1231   \n",
       "2  0.0018         0 -0.0156 -0.0765                2        0.0 -0.1138   \n",
       "3 -0.0251         0 -0.0064 -0.0894                3        0.0 -0.0747   \n",
       "4  0.0135         0  0.0424 -0.0353                0        0.0 -0.0638   \n",
       "\n",
       "   MATS3c  minHBint2  MATS3m  ...   WTPT-4   WTPT-5  ETA_EtaP_L  ETA_EtaP_F  \\\n",
       "0  0.0409        0.0  0.1368  ...   0.0000   0.0000      0.1780      1.5488   \n",
       "1 -0.0316        0.0  0.1318  ...   8.8660  19.3525      0.1739      1.3718   \n",
       "2 -0.1791        0.0  0.0615  ...   5.2267  27.8796      0.1688      1.4395   \n",
       "3 -0.1151        0.0  0.0361  ...   7.7896  24.7336      0.1702      1.4654   \n",
       "4  0.0307        0.0  0.0306  ...  12.3240  19.7486      0.1789      1.4495   \n",
       "\n",
       "   ETA_EtaP_B  nT5Ring  SHdNH  ETA_dEpsilon_C  MDEO-22     Class  \n",
       "0      0.0088        0    0.0         -0.0868     0.00  NonToxic  \n",
       "1      0.0048        2    0.0         -0.0810     0.25  NonToxic  \n",
       "2      0.0116        2    0.0         -0.1004     0.00  NonToxic  \n",
       "3      0.0133        2    0.0         -0.1010     0.00  NonToxic  \n",
       "4      0.0120        2    0.0         -0.1071     0.00  NonToxic  \n",
       "\n",
       "[5 rows x 1204 columns]"
      ]
     },
     "execution_count": 19,
     "metadata": {},
     "output_type": "execute_result"
    }
   ],
   "source": [
    "df.head()"
   ]
  },
  {
   "cell_type": "code",
   "execution_count": 20,
   "metadata": {},
   "outputs": [
    {
     "data": {
      "text/html": [
       "<div>\n",
       "<style scoped>\n",
       "    .dataframe tbody tr th:only-of-type {\n",
       "        vertical-align: middle;\n",
       "    }\n",
       "\n",
       "    .dataframe tbody tr th {\n",
       "        vertical-align: top;\n",
       "    }\n",
       "\n",
       "    .dataframe thead th {\n",
       "        text-align: right;\n",
       "    }\n",
       "</style>\n",
       "<table border=\"1\" class=\"dataframe\">\n",
       "  <thead>\n",
       "    <tr style=\"text-align: right;\">\n",
       "      <th></th>\n",
       "      <th>count</th>\n",
       "      <th>mean</th>\n",
       "      <th>std</th>\n",
       "      <th>min</th>\n",
       "      <th>25%</th>\n",
       "      <th>50%</th>\n",
       "      <th>75%</th>\n",
       "      <th>max</th>\n",
       "    </tr>\n",
       "  </thead>\n",
       "  <tbody>\n",
       "    <tr>\n",
       "      <th>MATS3v</th>\n",
       "      <td>171.0</td>\n",
       "      <td>-0.031244</td>\n",
       "      <td>0.063559</td>\n",
       "      <td>-0.3115</td>\n",
       "      <td>-0.06670</td>\n",
       "      <td>-0.0325</td>\n",
       "      <td>0.00485</td>\n",
       "      <td>0.1411</td>\n",
       "    </tr>\n",
       "    <tr>\n",
       "      <th>nHBint10</th>\n",
       "      <td>171.0</td>\n",
       "      <td>0.315789</td>\n",
       "      <td>0.762918</td>\n",
       "      <td>0.0000</td>\n",
       "      <td>0.00000</td>\n",
       "      <td>0.0000</td>\n",
       "      <td>0.00000</td>\n",
       "      <td>4.0000</td>\n",
       "    </tr>\n",
       "    <tr>\n",
       "      <th>MATS3s</th>\n",
       "      <td>171.0</td>\n",
       "      <td>-0.001001</td>\n",
       "      <td>0.063928</td>\n",
       "      <td>-0.1846</td>\n",
       "      <td>-0.03600</td>\n",
       "      <td>-0.0020</td>\n",
       "      <td>0.02900</td>\n",
       "      <td>0.2181</td>\n",
       "    </tr>\n",
       "    <tr>\n",
       "      <th>MATS3p</th>\n",
       "      <td>171.0</td>\n",
       "      <td>-0.061501</td>\n",
       "      <td>0.072891</td>\n",
       "      <td>-0.3485</td>\n",
       "      <td>-0.09955</td>\n",
       "      <td>-0.0594</td>\n",
       "      <td>-0.01710</td>\n",
       "      <td>0.1290</td>\n",
       "    </tr>\n",
       "    <tr>\n",
       "      <th>nHBDon_Lipinski</th>\n",
       "      <td>171.0</td>\n",
       "      <td>0.994152</td>\n",
       "      <td>1.108773</td>\n",
       "      <td>0.0000</td>\n",
       "      <td>0.00000</td>\n",
       "      <td>1.0000</td>\n",
       "      <td>2.00000</td>\n",
       "      <td>6.0000</td>\n",
       "    </tr>\n",
       "    <tr>\n",
       "      <th>...</th>\n",
       "      <td>...</td>\n",
       "      <td>...</td>\n",
       "      <td>...</td>\n",
       "      <td>...</td>\n",
       "      <td>...</td>\n",
       "      <td>...</td>\n",
       "      <td>...</td>\n",
       "      <td>...</td>\n",
       "    </tr>\n",
       "    <tr>\n",
       "      <th>ETA_EtaP_B</th>\n",
       "      <td>171.0</td>\n",
       "      <td>0.011316</td>\n",
       "      <td>0.005482</td>\n",
       "      <td>0.0014</td>\n",
       "      <td>0.00755</td>\n",
       "      <td>0.0107</td>\n",
       "      <td>0.01390</td>\n",
       "      <td>0.0346</td>\n",
       "    </tr>\n",
       "    <tr>\n",
       "      <th>nT5Ring</th>\n",
       "      <td>171.0</td>\n",
       "      <td>1.467836</td>\n",
       "      <td>1.013361</td>\n",
       "      <td>0.0000</td>\n",
       "      <td>1.00000</td>\n",
       "      <td>1.0000</td>\n",
       "      <td>2.00000</td>\n",
       "      <td>5.0000</td>\n",
       "    </tr>\n",
       "    <tr>\n",
       "      <th>SHdNH</th>\n",
       "      <td>171.0</td>\n",
       "      <td>0.004820</td>\n",
       "      <td>0.044475</td>\n",
       "      <td>0.0000</td>\n",
       "      <td>0.00000</td>\n",
       "      <td>0.0000</td>\n",
       "      <td>0.00000</td>\n",
       "      <td>0.4292</td>\n",
       "    </tr>\n",
       "    <tr>\n",
       "      <th>ETA_dEpsilon_C</th>\n",
       "      <td>171.0</td>\n",
       "      <td>-0.085088</td>\n",
       "      <td>0.029273</td>\n",
       "      <td>-0.2027</td>\n",
       "      <td>-0.09950</td>\n",
       "      <td>-0.0824</td>\n",
       "      <td>-0.06635</td>\n",
       "      <td>-0.0073</td>\n",
       "    </tr>\n",
       "    <tr>\n",
       "      <th>MDEO-22</th>\n",
       "      <td>171.0</td>\n",
       "      <td>0.061702</td>\n",
       "      <td>0.241896</td>\n",
       "      <td>0.0000</td>\n",
       "      <td>0.00000</td>\n",
       "      <td>0.0000</td>\n",
       "      <td>0.00000</td>\n",
       "      <td>2.6361</td>\n",
       "    </tr>\n",
       "  </tbody>\n",
       "</table>\n",
       "<p>1203 rows × 8 columns</p>\n",
       "</div>"
      ],
      "text/plain": [
       "                 count      mean       std     min      25%     50%      75%  \\\n",
       "MATS3v           171.0 -0.031244  0.063559 -0.3115 -0.06670 -0.0325  0.00485   \n",
       "nHBint10         171.0  0.315789  0.762918  0.0000  0.00000  0.0000  0.00000   \n",
       "MATS3s           171.0 -0.001001  0.063928 -0.1846 -0.03600 -0.0020  0.02900   \n",
       "MATS3p           171.0 -0.061501  0.072891 -0.3485 -0.09955 -0.0594 -0.01710   \n",
       "nHBDon_Lipinski  171.0  0.994152  1.108773  0.0000  0.00000  1.0000  2.00000   \n",
       "...                ...       ...       ...     ...      ...     ...      ...   \n",
       "ETA_EtaP_B       171.0  0.011316  0.005482  0.0014  0.00755  0.0107  0.01390   \n",
       "nT5Ring          171.0  1.467836  1.013361  0.0000  1.00000  1.0000  2.00000   \n",
       "SHdNH            171.0  0.004820  0.044475  0.0000  0.00000  0.0000  0.00000   \n",
       "ETA_dEpsilon_C   171.0 -0.085088  0.029273 -0.2027 -0.09950 -0.0824 -0.06635   \n",
       "MDEO-22          171.0  0.061702  0.241896  0.0000  0.00000  0.0000  0.00000   \n",
       "\n",
       "                    max  \n",
       "MATS3v           0.1411  \n",
       "nHBint10         4.0000  \n",
       "MATS3s           0.2181  \n",
       "MATS3p           0.1290  \n",
       "nHBDon_Lipinski  6.0000  \n",
       "...                 ...  \n",
       "ETA_EtaP_B       0.0346  \n",
       "nT5Ring          5.0000  \n",
       "SHdNH            0.4292  \n",
       "ETA_dEpsilon_C  -0.0073  \n",
       "MDEO-22          2.6361  \n",
       "\n",
       "[1203 rows x 8 columns]"
      ]
     },
     "execution_count": 20,
     "metadata": {},
     "output_type": "execute_result"
    }
   ],
   "source": [
    "df.describe().T"
   ]
  },
  {
   "cell_type": "code",
   "execution_count": 21,
   "metadata": {},
   "outputs": [
    {
     "name": "stdout",
     "output_type": "stream",
     "text": [
      "<class 'pandas.core.frame.DataFrame'>\n",
      "RangeIndex: 171 entries, 0 to 170\n",
      "Columns: 1204 entries, MATS3v to Class\n",
      "dtypes: float64(1003), int64(200), object(1)\n",
      "memory usage: 1.6+ MB\n"
     ]
    }
   ],
   "source": [
    "df.info() # information about the training data."
   ]
  },
  {
   "attachments": {},
   "cell_type": "markdown",
   "metadata": {},
   "source": [
    "Missing Values"
   ]
  },
  {
   "cell_type": "code",
   "execution_count": 22,
   "metadata": {},
   "outputs": [
    {
     "name": "stdout",
     "output_type": "stream",
     "text": [
      "Empty DataFrame\n",
      "Columns: [Total, Percent]\n",
      "Index: []\n"
     ]
    }
   ],
   "source": [
    "# print the percentage of missing values for instances.\n",
    "total = df.isnull().sum().sort_values(ascending = False)[df.isnull().sum().sort_values(ascending = False) != 0]\n",
    "percent = ((df.isnull().sum() / df.isnull().count()).sort_values(ascending = False)[(df.isnull().sum() / df.isnull().count()).sort_values(ascending = False) != 0])\n",
    "missing = pd.concat([total, percent], axis = 1, keys = ['Total', 'Percent'])\n",
    "print(missing)"
   ]
  },
  {
   "attachments": {},
   "cell_type": "markdown",
   "metadata": {},
   "source": [
    "Data redundancy"
   ]
  },
  {
   "cell_type": "code",
   "execution_count": 23,
   "metadata": {},
   "outputs": [
    {
     "name": "stdout",
     "output_type": "stream",
     "text": [
      "Number of duplicated instances: 0\n",
      "Empty DataFrame\n",
      "Columns: [MATS3v, nHBint10, MATS3s, MATS3p, nHBDon_Lipinski, minHBint8, MATS3e, MATS3c, minHBint2, MATS3m, minHBint6, minHBint7, minHBint4, MATS3i, VR3_Dt, SpMax8_Bhi, SdsN, SpMax8_Bhm, SpMax8_Bhe, ECCEN, MDEC-14, SpMax8_Bhs, SpMax8_Bhp, SpMax8_Bhv, MDEC-11, MDEC-12, MDEC-13, VR2_Dt, BIC5, ATS7s, ATS7p, ATS7v, ATS7i, ATS7m, ATS7e, mintN, nHsNH2, khs.sssCH, minHBint3, maxdssC, nT6Ring, minHBint5, nF8Ring, minssCH2, SpMax_DzZ, ETA_EtaP, nHsOH, SpMin1_Bhe, maxHother, nHBAcc_Lipinski, StN, khs.aaS, khs.aaO, khs.aaN, Sare, SHAvin, SpMax3_Bhv, SpMax3_Bhp, SpMax3_Bhs, SpMax3_Bhe, SpMin6_Bhi, SpMax3_Bhm, SpMax3_Bhi, ETA_EtaP_F_L, mindCH2, AATSC2e, AATSC2c, AATSC2m, AATSC2i, nsBr, AATS5p, AATSC2v, AATSC2p, AATSC2s, VABC, maxdNH, khs.ddsN, RotBtFrac, ATS4e, ATS4m, nFRing, ATS4i, EE_DzZ, ATS4s, ATS4p, ETA_Alpha, khs.sssN, EE_Dzi, MAXDN, EE_Dzm, EE_Dze, EE_Dzs, EE_Dzp, EE_Dzv, ATS8e, maxsOH, minssssNp, maxsOm, MDEC-23, MDEC-22, ...]\n",
      "Index: []\n",
      "\n",
      "[0 rows x 1204 columns]\n"
     ]
    }
   ],
   "source": [
    "# Check for duplicates across all columns\n",
    "duplicated = df.duplicated()\n",
    "\n",
    "# Print the number of duplicated instances\n",
    "print(\"Number of duplicated instances:\", duplicated.sum())\n",
    "\n",
    "# Print the duplicated instances\n",
    "print(df[duplicated])"
   ]
  },
  {
   "attachments": {},
   "cell_type": "markdown",
   "metadata": {},
   "source": [
    "Convert categorical features to numarical features"
   ]
  },
  {
   "cell_type": "code",
   "execution_count": 24,
   "metadata": {},
   "outputs": [],
   "source": [
    "df = pd.get_dummies(df, columns= [df.columns[-1]], drop_first= True)"
   ]
  },
  {
   "attachments": {},
   "cell_type": "markdown",
   "metadata": {},
   "source": [
    "Preprocess the data by splitting it into training and testing sets, and scaling the features."
   ]
  },
  {
   "cell_type": "code",
   "execution_count": 25,
   "metadata": {},
   "outputs": [],
   "source": [
    "X = df.iloc[:, :-1].values\n",
    "y = df.iloc[:, -1].values\n",
    "X_train, X_test, y_train, y_test = train_test_split(X, y, test_size=0.2, random_state=42)\n",
    "scaler = StandardScaler()\n",
    "X_train = scaler.fit_transform(X_train)\n",
    "X_test = scaler.transform(X_test)"
   ]
  },
  {
   "attachments": {},
   "cell_type": "markdown",
   "metadata": {},
   "source": [
    "#### <span style=\"color:#FFFF00\"> Implement an SVM algorithm </span>"
   ]
  },
  {
   "attachments": {},
   "cell_type": "markdown",
   "metadata": {},
   "source": [
    "Train an SVM classifier on the original dataset and evaluate its performance on the testing set."
   ]
  },
  {
   "cell_type": "code",
   "execution_count": 26,
   "metadata": {},
   "outputs": [
    {
     "name": "stdout",
     "output_type": "stream",
     "text": [
      "Accuracy on original dataset: 0.5428571428571428\n"
     ]
    }
   ],
   "source": [
    "clf = svm.SVC(kernel='linear')\n",
    "clf.fit(X_train, y_train)\n",
    "y_pred = clf.predict(X_test)\n",
    "accuracy = accuracy_score(y_test, y_pred)\n",
    "print(\"Accuracy on original dataset:\", accuracy)"
   ]
  },
  {
   "attachments": {},
   "cell_type": "markdown",
   "metadata": {},
   "source": [
    "#### <span style=\"color:#FFFF00\"> Implement a Genetic Algorithm </span>"
   ]
  },
  {
   "attachments": {},
   "cell_type": "markdown",
   "metadata": {},
   "source": [
    "Use a genetic algorithm to perform feature selection. First, define a fitness function that evaluates the performance of the SVM classifier on a subset of features."
   ]
  },
  {
   "cell_type": "code",
   "execution_count": 27,
   "metadata": {},
   "outputs": [],
   "source": [
    "def fitness_function(features):\n",
    "    clf = svm.SVC(kernel='linear')\n",
    "    clf.fit(X_train[:, features], y_train)\n",
    "    y_pred = clf.predict(X_test[:, features])\n",
    "    accuracy = accuracy_score(y_test, y_pred)\n",
    "    return accuracy\n"
   ]
  },
  {
   "attachments": {},
   "cell_type": "markdown",
   "metadata": {},
   "source": [
    "Define the genetic algorithm functions, such as the initialization, selection, crossover, and mutation."
   ]
  },
  {
   "cell_type": "code",
   "execution_count": 28,
   "metadata": {},
   "outputs": [],
   "source": [
    "# Define the genetic algorithm parameters, such as the population size, mutation rate, and number of generations.\n",
    "POPULATION_SIZE = 40\n",
    "MUTATION_RATE = 0.1\n",
    "NUM_GENERATIONS = 10\n",
    "NUM_FEATURES = X_train.shape[1]\n",
    "\n",
    "def create_individual():\n",
    "    return np.random.randint(2, size=NUM_FEATURES)\n",
    "\n",
    "def create_population():\n",
    "    return [create_individual() for _ in range(POPULATION_SIZE)]\n",
    "\n",
    "def fitness(individual):\n",
    "    return fitness_function(np.where(individual == 1)[0])\n",
    "\n",
    "def selection(population):\n",
    "    fitness_scores = [fitness(individual) for individual in population]\n",
    "    return [population[i] for i in np.argsort(fitness_scores)[-int(len(population)*0.3):]]\n",
    "\n",
    "def crossover(parent1, parent2):\n",
    "    crossover_point = random.randint(1, len(parent1)-2)\n",
    "    child1 = np.concatenate([parent1[:crossover_point], parent2[crossover_point:]])\n",
    "    child2 = np.concatenate([parent2[:crossover_point], parent1[crossover_point:]])\n",
    "    return child1, child2\n",
    "\n",
    "def mutation(individual):\n",
    "    for i in range(len(individual)):\n",
    "        if random.random() < MUTATION_RATE:\n",
    "            individual[i] = 1 - individual[i]\n",
    "    return individual\n"
   ]
  },
  {
   "cell_type": "code",
   "execution_count": 29,
   "metadata": {},
   "outputs": [],
   "source": [
    "# Run the genetic algorithm to select the best subset of features.\n",
    "population = create_population()\n",
    "\n",
    "for generation in range(NUM_GENERATIONS):\n",
    "    selected_population = selection(population)\n",
    "    next_population = []\n",
    "    while len(next_population) < POPULATION_SIZE:\n",
    "        parent1, parent2 = random.sample(selected_population, 2)\n",
    "        child1, child2 = crossover(parent1, parent2)\n",
    "        mutation(child1)\n",
    "        mutation(child2)\n",
    "        next_population.append(child1)\n",
    "        next_population.append(child2)\n",
    "    population = next_population\n"
   ]
  },
  {
   "cell_type": "code",
   "execution_count": 30,
   "metadata": {},
   "outputs": [
    {
     "name": "stdout",
     "output_type": "stream",
     "text": [
      "Accuracy of SVM with GA-selected features: 0.6857142857142857\n"
     ]
    }
   ],
   "source": [
    "# Use the GA-selected features for SVM training and testing\n",
    "selected_features = population[0]\n",
    "\n",
    "X_selected = X[:, selected_features]\n",
    "\n",
    "# Split the dataset into training and test sets using the selected features\n",
    "X_train_sel, X_test_sel, y_train, y_test = train_test_split(X_selected, y, test_size=0.2, random_state=42)\n",
    "\n",
    "# Train the SVM model using only the selected features\n",
    "svm_sel = svm.SVC()\n",
    "svm_sel.fit(X_train_sel, y_train)\n",
    "\n",
    "# Make predictions on the test set using the selected features\n",
    "y_pred_sel = svm_sel.predict(X_test_sel)\n",
    "\n",
    "# Evaluate the accuracy of the model using the selected features\n",
    "accuracy_sel = accuracy_score(y_test, y_pred_sel)\n",
    "print(f\"Accuracy of SVM with GA-selected features: {accuracy_sel}\")"
   ]
  },
  {
   "attachments": {},
   "cell_type": "markdown",
   "metadata": {},
   "source": [
    "#### <span style=\"color:#FFFF00\"> Conclusion </span>\n",
    "\n",
    "The SVM algorithm is a powerful technique for classification problems, but its performance can be improved by selecting a relevant subset of features.\n",
    "\n",
    "In this study, we performed an exploratory data analysis and found that the dataset consisted of 1003 continuous and 200 discrete features with no missing values or redundant instances. We implemented an SVM algorithm using Python's scikit-learn library and used GA for feature selection. The accuracy of the SVM model improved from 54.3% before feature selection to 68.6% after feature selection. This indicates that GA was able to identify a subset of features that significantly improved the performance of the model.\n",
    "\n",
    "In summary, the combination of SVM and GA is an effective approach for solving classification problems that involve large and complex datasets. The results of this study demonstrate the importance of feature selection in improving the accuracy of SVM models and highlight the potential of GA as a powerful feature selection technique."
   ]
  },
  {
   "attachments": {},
   "cell_type": "markdown",
   "metadata": {},
   "source": [
    "#### <span style=\"color:#FFFF00\"> References </span>"
   ]
  },
  {
   "attachments": {},
   "cell_type": "markdown",
   "metadata": {},
   "source": [
    "UC Irvine Machine Learning Repository. (n.d.). UC Irvine Machine Learning Repository. [https://archive-beta.ics.uci.edu/dataset/728/toxicity-2](https://archive-beta.ics.uci.edu/dataset/728/toxicity-2)"
   ]
  }
 ],
 "metadata": {
  "kernelspec": {
   "display_name": "base",
   "language": "python",
   "name": "python3"
  },
  "language_info": {
   "codemirror_mode": {
    "name": "ipython",
    "version": 3
   },
   "file_extension": ".py",
   "mimetype": "text/x-python",
   "name": "python",
   "nbconvert_exporter": "python",
   "pygments_lexer": "ipython3",
   "version": "3.9.13"
  },
  "orig_nbformat": 4
 },
 "nbformat": 4,
 "nbformat_minor": 2
}
